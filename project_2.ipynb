{
 "cells": [
  {
   "cell_type": "code",
   "id": "initial_id",
   "metadata": {
    "collapsed": true,
    "ExecuteTime": {
     "end_time": "2025-07-31T22:20:14.304378Z",
     "start_time": "2025-07-31T22:20:14.296843Z"
    }
   },
   "source": [
    "import numpy as np\n",
    "import cv2\n",
    "import imutils\n",
    "import easyocr\n",
    "import os\n",
    "from sklearn.model_selection import train_test_split\n",
    "from sklearn.linear_model import  LogisticRegression\n",
    "from sklearn import metrics\n",
    "import matplotlib.pyplot as plt"
   ],
   "outputs": [],
   "execution_count": 4
  },
  {
   "metadata": {
    "ExecuteTime": {
     "end_time": "2025-07-31T22:20:51.078178Z",
     "start_time": "2025-07-31T22:20:14.319783Z"
    }
   },
   "cell_type": "code",
   "source": [
    "img_pelak = cv2.imread(\"D:\\\\10project Aiolearn\\\\Plaque detection\\\\pelak_org\\\\pelak_cls.jpg\")\n",
    "img_pelak_gray = cv2.cvtColor(img_pelak,cv2.COLOR_BGR2GRAY)\n",
    "cv2.imshow(\"Pelak\",img_pelak_gray)\n",
    "cv2.waitKey(0)\n",
    "cv2.destroyAllWindows()"
   ],
   "id": "f30b37ac803c40f5",
   "outputs": [],
   "execution_count": 5
  },
  {
   "metadata": {
    "ExecuteTime": {
     "end_time": "2025-07-31T22:20:53.219687Z",
     "start_time": "2025-07-31T22:20:51.111060Z"
    }
   },
   "cell_type": "code",
   "source": [
    "bila_filter = cv2.bilateralFilter(img_pelak_gray,11,15,15)\n",
    "edges = cv2.Canny(bila_filter,30,150)\n",
    "edges = cv2.GaussianBlur(edges,(5,5),0)\n",
    "cv2.imshow(\"Edges\",edges)\n",
    "cv2.waitKey(0)\n",
    "cv2.destroyAllWindows()"
   ],
   "id": "268b1dadc2989af5",
   "outputs": [],
   "execution_count": 6
  },
  {
   "metadata": {
    "ExecuteTime": {
     "end_time": "2025-07-31T22:20:53.272566Z",
     "start_time": "2025-07-31T22:20:53.249557Z"
    }
   },
   "cell_type": "code",
   "source": [
    "contuors = cv2.findContours(edges.copy(),cv2.RETR_TREE,cv2.CHAIN_APPROX_SIMPLE)\n",
    "contuors_refind = imutils.grab_contours(contuors)\n",
    "contuors_sort = sorted(contuors_refind,key=cv2.contourArea,reverse=True)"
   ],
   "id": "b2678d4f5a482189",
   "outputs": [],
   "execution_count": 7
  },
  {
   "metadata": {
    "ExecuteTime": {
     "end_time": "2025-07-31T22:20:53.302016Z",
     "start_time": "2025-07-31T22:20:53.291730Z"
    }
   },
   "cell_type": "code",
   "source": [
    "for coun in contuors_sort:\n",
    "    epsilon = 0.02 * cv2.arcLength(coun, True)\n",
    "    contuors_approx = cv2.approxPolyDP(coun, epsilon, True)\n",
    "    # contuors_approx = cv2.approxPolyDP(coun,10,True)\n",
    "    if len(contuors_approx) == 4:\n",
    "        plate_loc = contuors_approx\n",
    "        break"
   ],
   "id": "1fae71bcf45bfa49",
   "outputs": [],
   "execution_count": 8
  },
  {
   "metadata": {
    "ExecuteTime": {
     "end_time": "2025-07-31T22:20:54.658011Z",
     "start_time": "2025-07-31T22:20:53.318276Z"
    }
   },
   "cell_type": "code",
   "source": [
    "plate_mask = np.zeros(img_pelak_gray.shape,np.uint8)\n",
    "plate_mask_1 = cv2.drawContours(plate_mask,[plate_loc],0,255,-1)\n",
    "plate_img = cv2.bitwise_and(img_pelak,img_pelak,mask=plate_mask_1)\n",
    "cv2.imshow(\"Pelak\",plate_img)\n",
    "cv2.waitKey(0)\n",
    "cv2.destroyAllWindows()"
   ],
   "id": "370847a5f138bf2c",
   "outputs": [],
   "execution_count": 9
  },
  {
   "metadata": {
    "ExecuteTime": {
     "end_time": "2025-07-31T22:20:56.109291Z",
     "start_time": "2025-07-31T22:20:54.688456Z"
    }
   },
   "cell_type": "code",
   "source": [
    "x,y = np.where(plate_mask_1 == 255)\n",
    "(x1,y1) = np.min(x),np.min(y)\n",
    "(x2,y2) = np.max(x),np.max(y)\n",
    "crop_mask = img_pelak_gray[x1:x2+1,y1:y2+1]\n",
    "cv2.imshow(\"Pelak\",crop_mask)\n",
    "cv2.waitKey(0)\n",
    "cv2.destroyAllWindows()"
   ],
   "id": "d159587e4c3f5b3f",
   "outputs": [],
   "execution_count": 10
  },
  {
   "metadata": {
    "ExecuteTime": {
     "end_time": "2025-07-31T22:20:59.892339Z",
     "start_time": "2025-07-31T22:20:56.531661Z"
    }
   },
   "cell_type": "code",
   "source": [
    "read = easyocr.Reader([\"fa\"])\n",
    "plate_text = read.readtext(crop_mask)\n",
    "plate_text"
   ],
   "id": "4e59eeb73fa5ccca",
   "outputs": [
    {
     "name": "stderr",
     "output_type": "stream",
     "text": [
      "Neither CUDA nor MPS are available - defaulting to CPU. Note: This module is much faster with a GPU.\n",
      "C:\\Users\\Alireza\\AppData\\Local\\Programs\\Python\\Python313\\Lib\\site-packages\\torch\\utils\\data\\dataloader.py:665: UserWarning: 'pin_memory' argument is set as true but no accelerator is found, then device pinned memory won't be used.\n",
      "  warnings.warn(warn_msg)\n"
     ]
    },
    {
     "data": {
      "text/plain": [
       "[[[[np.int32(15), 0],\n",
       "   [208, 0],\n",
       "   [208, np.int32(50)],\n",
       "   [np.int32(15), np.int32(50)]],\n",
       "  '٤٤ ٨٣٥ب٣١',\n",
       "  np.float64(0.45291022986349655)]]"
      ]
     },
     "execution_count": 11,
     "metadata": {},
     "output_type": "execute_result"
    }
   ],
   "execution_count": 11
  },
  {
   "metadata": {
    "ExecuteTime": {
     "end_time": "2025-07-31T22:32:55.073311Z",
     "start_time": "2025-07-31T22:32:48.651112Z"
    }
   },
   "cell_type": "code",
   "source": [
    "x = np.empty((0,512))\n",
    "y = np.array([])\n",
    "for i in range(1,10):\n",
    "    files = os.listdir(\"D:\\\\10project Aiolearn\\\\Plaque detection\\\\pelak\\\\\" + str(i) + \"\\\\\")\n",
    "    for file in files:\n",
    "        img_1 = cv2.imread(\"D:\\\\10project Aiolearn\\\\Plaque detection\\\\pelak\\\\\" + str(i) + \"\\\\\" + file)\n",
    "        img_2 = cv2.resize(img_1,(16,32))\n",
    "        img_3 = cv2.cvtColor(img_2,cv2.COLOR_BGR2GRAY)\n",
    "        img_4 = img_3.flatten()\n",
    "        x = np.append(x,[img_4],axis=0)\n",
    "        y = np.append(y,i)"
   ],
   "id": "84ca38cf6f50e341",
   "outputs": [],
   "execution_count": 40
  },
  {
   "metadata": {
    "ExecuteTime": {
     "end_time": "2025-07-31T22:32:55.982305Z",
     "start_time": "2025-07-31T22:32:55.087465Z"
    }
   },
   "cell_type": "code",
   "source": [
    "xtrain,xtest,ytrain,ytest = train_test_split(x,y,train_size=0.8,random_state=1)\n",
    "model = LogisticRegression(max_iter=100000)\n",
    "model.fit(xtrain,ytrain)\n",
    "pred = model.predict(xtest)"
   ],
   "id": "bb565da955faff93",
   "outputs": [],
   "execution_count": 41
  },
  {
   "metadata": {
    "ExecuteTime": {
     "end_time": "2025-07-31T22:32:56.006445Z",
     "start_time": "2025-07-31T22:32:55.995325Z"
    }
   },
   "cell_type": "code",
   "source": [
    "acc = metrics.accuracy_score(ytest,pred)\n",
    "acc"
   ],
   "id": "7cbe4480482640a4",
   "outputs": [
    {
     "data": {
      "text/plain": [
       "0.9227053140096618"
      ]
     },
     "execution_count": 42,
     "metadata": {},
     "output_type": "execute_result"
    }
   ],
   "execution_count": 42
  },
  {
   "metadata": {
    "ExecuteTime": {
     "end_time": "2025-07-31T22:31:40.435141Z",
     "start_time": "2025-07-31T22:31:40.430741Z"
    }
   },
   "cell_type": "code",
   "source": "sum_pelak = 90-(np.sum(crop_mask,axis=0,keepdims=True)/90)",
   "id": "bbc991f46c1727ab",
   "outputs": [],
   "execution_count": 36
  },
  {
   "metadata": {
    "ExecuteTime": {
     "end_time": "2025-07-31T22:29:09.903953Z",
     "start_time": "2025-07-31T22:29:09.680166Z"
    }
   },
   "cell_type": "code",
   "source": [
    "plt.plot(sum_pelak[0])\n",
    "plt.show()"
   ],
   "id": "b40b467e9c569a64",
   "outputs": [
    {
     "data": {
      "text/plain": [
       "<Figure size 640x480 with 1 Axes>"
      ],
      "image/png": "[encoded data removed]"
     },
     "metadata": {},
     "output_type": "display_data"
    }
   ],
   "execution_count": 30
  },
  {
   "metadata": {
    "ExecuteTime": {
     "end_time": "2025-07-31T22:29:12.218824Z",
     "start_time": "2025-07-31T22:29:09.960278Z"
    }
   },
   "cell_type": "code",
   "source": [
    "copy_pelak = crop_mask.copy()\n",
    "copy_pelak = cv2.line(copy_pelak,(45,0),(45,90),(0,0,255),2)\n",
    "cv2.imshow(\"car_plate_iran\",copy_pelak)\n",
    "cv2.waitKey(0)\n",
    "cv2.destroyAllWindows()"
   ],
   "id": "59b7dd70e03e5046",
   "outputs": [],
   "execution_count": 31
  },
  {
   "metadata": {
    "ExecuteTime": {
     "end_time": "2025-07-31T22:29:17.425726Z",
     "start_time": "2025-07-31T22:29:12.256623Z"
    }
   },
   "cell_type": "code",
   "source": [
    "copy_crop_mask = crop_mask.copy()\n",
    "xi = 0\n",
    "xi1 = 0\n",
    "xi2 = 0\n",
    "flag = False\n",
    "flag1 = False\n",
    "for i in sum_pelak[0]:\n",
    "    xi+=1\n",
    "\n",
    "    if i > 30 and flag == True and flag1 == False:\n",
    "        flag1 = True\n",
    "\n",
    "    if i < 23:\n",
    "        copy_crop_mask = cv2.line(copy_crop_mask,(xi,0),(xi,80),(0,0,0),1)\n",
    "        if flag == False:\n",
    "            xi1 = xi\n",
    "        if flag1 == True:\n",
    "            xi2 = xi\n",
    "\n",
    "            flag = False\n",
    "            flag1 = False\n",
    "            img_crop = crop_mask[:,xi1:xi2]\n",
    "            x_crop = np.empty((0,512))\n",
    "            img_crop_1 = cv2.resize(img_crop,(16,32))\n",
    "            #img_crop_2 = cv2.cvtColor(img_crop_1,cv2.COLOR_BGR2GRAY)\n",
    "            img_crop_3 = img_crop_1.flatten()\n",
    "            x_crop = np.append(x_crop,[img_crop_3],axis=0)\n",
    "            pred_crop = model.predict(x_crop)\n",
    "            print(pred_crop,end=\"\")\n",
    "\n",
    "            cv2.imshow(\"car\",img_crop)\n",
    "            cv2.waitKey(0)\n",
    "            cv2.destroyAllWindows()\n",
    "\n",
    "            xi1 = xi2\n",
    "\n",
    "        flag = True\n",
    "\n",
    "cv2.imshow(\"pelak\",copy_crop_mask)\n",
    "cv2.waitKey(0)\n",
    "cv2.destroyAllWindows()"
   ],
   "id": "bd139947e8e7ff4b",
   "outputs": [
    {
     "name": "stdout",
     "output_type": "stream",
     "text": [
      "[1.][9.][3.][7.][8.][4.][1.][1.][4.][6.]"
     ]
    }
   ],
   "execution_count": 32
  },
  {
   "metadata": {
    "ExecuteTime": {
     "end_time": "2025-07-31T22:29:17.465437Z",
     "start_time": "2025-07-31T22:29:17.457020Z"
    }
   },
   "cell_type": "code",
   "source": "",
   "id": "d329911d0b5b43ca",
   "outputs": [],
   "execution_count": null
  },
  {
   "metadata": {},
   "cell_type": "code",
   "outputs": [],
   "execution_count": null,
   "source": "",
   "id": "e48050eec464ebba"
  }
 ],
 "metadata": {
  "kernelspec": {
   "display_name": "Python 3",
   "language": "python",
   "name": "python3"
  },
  "language_info": {
   "codemirror_mode": {
    "name": "ipython",
    "version": 2
   },
   "file_extension": ".py",
   "mimetype": "text/x-python",
   "name": "python",
   "nbconvert_exporter": "python",
   "pygments_lexer": "ipython2",
   "version": "2.7.6"
  }
 },
 "nbformat": 4,
 "nbformat_minor": 5
}
